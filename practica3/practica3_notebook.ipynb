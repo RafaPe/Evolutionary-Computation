{
 "cells": [
  {
   "cell_type": "markdown",
   "id": "armed-breeding",
   "metadata": {},
   "source": [
    "# Programación Evolutiva"
   ]
  },
  {
   "cell_type": "code",
   "execution_count": 16,
   "id": "global-senator",
   "metadata": {},
   "outputs": [],
   "source": [
    "import numpy as np \n",
    "import math\n",
    "import copy"
   ]
  },
  {
   "cell_type": "markdown",
   "id": "tracked-occasion",
   "metadata": {},
   "source": [
    "Definimos la función a optimizar. En este caso es la función de Ackley"
   ]
  },
  {
   "cell_type": "code",
   "execution_count": 17,
   "id": "received-joining",
   "metadata": {},
   "outputs": [],
   "source": [
    "def f(x):\n",
    "    sumatoria1 = 0\n",
    "    sumatoria2 = 0\n",
    "    for x_ in x:\n",
    "        sumatoria1 += x_**2\n",
    "        sumatoria2 += math.cos(x_ * math.pi * 2)\n",
    "    p1 = -20*(math.e**(-0.2*(math.sqrt(((1/len(x)*sumatoria1))))))\n",
    "    p2 = -math.e**(((1/len(x))*sumatoria2))\n",
    "    \n",
    "    return p1 + p2 + 20 + math.e"
   ]
  },
  {
   "cell_type": "markdown",
   "id": "reasonable-forth",
   "metadata": {},
   "source": [
    "Ahora definimos la adecuación que es lo que nos va decir qué tan buena es la solución. En este caso entre más pequeña sea f(x), será mejor pues queremos minimizar. Por lo tanto la adecuación se puede definir como menos f(x) y así la mejor solución va a ser la que se encuentre al principio al momento de ordenarlas de mayor a menor."
   ]
  },
  {
   "cell_type": "code",
   "execution_count": 18,
   "id": "verified-welding",
   "metadata": {},
   "outputs": [],
   "source": [
    "def adecuacion(x):\n",
    "    return -f(x)"
   ]
  },
  {
   "cell_type": "markdown",
   "id": "pressed-elizabeth",
   "metadata": {},
   "source": [
    "Para la función de la población inicial tomamos como parámetros la cantidad de padres que queremos inicialmente (mu) y la cantidad de variables que va a tener cada padre o solución (n)"
   ]
  },
  {
   "cell_type": "code",
   "execution_count": 19,
   "id": "congressional-munich",
   "metadata": {},
   "outputs": [],
   "source": [
    "def poblacion_inicial(mu, n):\n",
    "    '''n es la cantidad de valores de una solución \n",
    "        ej [x1,x2,x3,s1,s2,s3] tiene 3 soluciones'''\n",
    "    padres = []\n",
    "    for _ in range(mu):\n",
    "        x = list(np.random.uniform(-30, 30, n))\n",
    "        sigmas = list(np.random.uniform(0, 1, n))\n",
    "        # p = list(zip(np.random.uniform(-30, 30, n), np.random.uniform(0, 1, n)))\n",
    "        p = [x, sigmas]\n",
    "        p.append(adecuacion(p[0]))\n",
    "        padres.append(p)\n",
    "    return padres"
   ]
  },
  {
   "cell_type": "markdown",
   "id": "blocked-bishop",
   "metadata": {},
   "source": [
    "Para la función de mutación queremos modificar un poco las soluciones padres y los factores de mutación (sigma) y regresamos el padre modificado"
   ]
  },
  {
   "cell_type": "code",
   "execution_count": 20,
   "id": "guided-algorithm",
   "metadata": {},
   "outputs": [],
   "source": [
    "def mutacion(padre, n, alpha, epsilon):\n",
    "    hijo = copy.deepcopy(padre)\n",
    "    # hijo[0][0], hijo[0][1] = list(hijo[0][0]), list(hijo[0][1])\n",
    "    # print(hijo)\n",
    "    for i in range(len(hijo[1])):\n",
    "        hijo[1][i] = alpha*np.random.normal(0,1,1)[0]\n",
    "        if hijo[1][i] < epsilon:\n",
    "            hijo[1][i] = epsilon\n",
    "    for i in range(len(hijo[0])):\n",
    "        hijo[0][i] = hijo[0][i] + hijo[1][i]*np.random.normal(0,1,1)[0]\n",
    "        if hijo[0][i] <-30:\n",
    "            hijo[0][i] = -30\n",
    "        elif hijo[0][i] > 30:\n",
    "            hijo[0][i] = 30\n",
    "    # print(hijo[0])\n",
    "    hijo[2] = adecuacion(hijo[0])\n",
    "    return hijo"
   ]
  },
  {
   "cell_type": "markdown",
   "id": "noticed-final",
   "metadata": {},
   "source": [
    "Para la función evolución tomamos la cantidad de generaciones en las cuales vamos a querer estar mutando a la población inicial y eligiendo a los más adecuados. Al final nos quedamos con la solución que tenga mejor adecuación después de todas las generaciones."
   ]
  },
  {
   "cell_type": "code",
   "execution_count": 21,
   "id": "rational-xerox",
   "metadata": {},
   "outputs": [],
   "source": [
    "def evolucion(n, mu, generaciones, alpha, epsilon = 0.01):\n",
    "    padres = poblacion_inicial(mu, n)\n",
    "\n",
    "    for _ in range(generaciones):\n",
    "        generacion = copy.deepcopy(padres)\n",
    "        for p in padres:\n",
    "            hijo = mutacion(p, n, alpha, epsilon)\n",
    "            generacion.append(hijo)\n",
    "        generacion = sorted(generacion, key= lambda x: x[-1])\n",
    "        seleccion = generacion[mu:]\n",
    "        padres = copy.deepcopy(seleccion)\n",
    "\n",
    "    return padres[-1]"
   ]
  },
  {
   "cell_type": "markdown",
   "id": "usual-index",
   "metadata": {},
   "source": [
    " Algoritmo evolutivo con tres variables "
   ]
  },
  {
   "cell_type": "code",
   "execution_count": 22,
   "id": "retained-andrew",
   "metadata": {},
   "outputs": [
    {
     "data": {
      "text/plain": [
       "[[1.702191010251911e-05, -0.00023318266459686687, 0.00011928504091237896],\n",
       " [0.005, 0.005, 0.005],\n",
       " -0.0006073817114082836]"
      ]
     },
     "execution_count": 22,
     "metadata": {},
     "output_type": "execute_result"
    }
   ],
   "source": [
    "evolucion(3,100,2000,0.2,0.005)"
   ]
  },
  {
   "cell_type": "markdown",
   "id": "personal-liverpool",
   "metadata": {},
   "source": [
    "En este caso se obtuvo una adecuación de -0.0006, la cual es muy buena pues representa que f(x) = 0.0005 y sabemos que el mínimo global se encuentra en (0,0), por lo cual fue una muy buena aproximación"
   ]
  },
  {
   "cell_type": "markdown",
   "id": "concrete-cancer",
   "metadata": {},
   "source": [
    "## Parte 2"
   ]
  },
  {
   "cell_type": "code",
   "execution_count": 23,
   "id": "smaller-surprise",
   "metadata": {},
   "outputs": [],
   "source": [
    "import statistics"
   ]
  },
  {
   "cell_type": "markdown",
   "id": "automatic-twist",
   "metadata": {},
   "source": [
    "Para determinar la mejor solución, la peor y la mediana lo que hacemos es ordenar la lista de soluciones obtenidas de acuerdo a su adecuación. En el caso de la mejor solución lo que hacemos es regresar el último elemento, para la peor regresamos el primer elemento y para la mediana regresamos el elemento de en medio"
   ]
  },
  {
   "cell_type": "code",
   "execution_count": 24,
   "id": "commercial-welsh",
   "metadata": {},
   "outputs": [],
   "source": [
    "def get_best_solution(solutions):\n",
    "    best = sorted(solutions, key= lambda x: x[-1])\n",
    "    return best[-1]\n",
    "\n",
    "def get_worst_solution(solutions):\n",
    "    best = sorted(solutions, key= lambda x: x[-1])\n",
    "    return best[0]\n",
    "\n",
    "def get_median(solutions):\n",
    "    best = sorted(solutions, key= lambda x: x[-1])\n",
    "    return best[len(solutions)//2]"
   ]
  },
  {
   "cell_type": "markdown",
   "id": "contained-georgia",
   "metadata": {},
   "source": [
    "Para el promedio se suman todas la adecuaciones y se dividen entre la cantidad de soluciones que se generaron"
   ]
  },
  {
   "cell_type": "code",
   "execution_count": 25,
   "id": "talented-austria",
   "metadata": {},
   "outputs": [],
   "source": [
    "def get_mean_cost(solutions):\n",
    "    cont = 0\n",
    "    for s in solutions:\n",
    "        cont += -s[-1]\n",
    "    return cont/len(solutions)"
   ]
  },
  {
   "cell_type": "markdown",
   "id": "finnish-boxing",
   "metadata": {},
   "source": [
    "Para la desviación estándar se separan las adecuaciones y se utiliza la función de statistics.stdev para calcular la desviación estándar de estas."
   ]
  },
  {
   "cell_type": "code",
   "execution_count": 26,
   "id": "increasing-bernard",
   "metadata": {},
   "outputs": [],
   "source": [
    "def get_sd_cost(solutions):\n",
    "    valores = []\n",
    "    for s in solutions:\n",
    "        valores.append(s[-1])\n",
    "    return statistics.stdev(valores)"
   ]
  },
  {
   "cell_type": "markdown",
   "id": "racial-spirit",
   "metadata": {},
   "source": [
    "Reporte de soluciones para 50 ejecuciones con 3 variables"
   ]
  },
  {
   "cell_type": "code",
   "execution_count": 27,
   "id": "republican-target",
   "metadata": {},
   "outputs": [
    {
     "name": "stdout",
     "output_type": "stream",
     "text": [
      "*************************************** Mejor Solución ***************************************\n",
      "Xs = [-4.927451080863067e-06, -2.7862473673831846e-05, -0.00010752772624494011]\n",
      "Sigmas = [0.005, 0.005, 0.005]\n",
      "f(x) = 0.00025699754687780185\n",
      "\n",
      "\n",
      "*************************************** Peor Solución ***************************************\n",
      "Xs = [0.0005492624654099324, -0.0004007344186573653, 0.0001925155525000411]\n",
      "Sigmas = [0.005, 0.005, 0.005]\n",
      "f(x) = 0.0016407787029462106\n",
      "\n",
      "\n",
      "******************************************* Mediana *******************************************\n",
      "Xs = [-0.00035532122022141117, -0.00018800042915853078, 0.00010866182354495545]\n",
      "Sigmas = [0.005, 0.005, 0.005]\n",
      "f(x) = 0.0009647566390644791\n",
      "\n",
      "\n",
      "Promedio:\t 0.0009698356586852875\n",
      "Stadard Dev:\t 0.00031159834712914624\n"
     ]
    }
   ],
   "source": [
    "m = 50\n",
    "sols = []\n",
    "for i in range(m):\n",
    "    solucion = evolucion(3,100,500,0.2,0.005)\n",
    "    sols.append(solucion)\n",
    "\n",
    "print('*************************************** Mejor Solución ***************************************')\n",
    "mejor_sol = get_best_solution(sols)\n",
    "print(f'Xs = {mejor_sol[0]}')\n",
    "print(f'Sigmas = {mejor_sol[1]}')\n",
    "print(f'f(x) = {-mejor_sol[2]}')\n",
    "print('\\n')\n",
    "\n",
    "print('*************************************** Peor Solución ***************************************')\n",
    "peor_sol = get_worst_solution(sols)\n",
    "print(f'Xs = {peor_sol[0]}')\n",
    "print(f'Sigmas = {peor_sol[1]}')\n",
    "print(f'f(x) = {-peor_sol[2]}')\n",
    "print('\\n')\n",
    "\n",
    "print('******************************************* Mediana *******************************************')\n",
    "med_sol = get_median(sols)\n",
    "print(f'Xs = {med_sol[0]}')\n",
    "print(f'Sigmas = {med_sol[1]}')\n",
    "print(f'f(x) = {-med_sol[2]}')\n",
    "print('\\n')\n",
    "\n",
    "print('Promedio:\\t',get_mean_cost(sols))\n",
    "print('Stadard Dev:\\t',get_sd_cost(sols))"
   ]
  },
  {
   "cell_type": "markdown",
   "id": "suburban-moderator",
   "metadata": {},
   "source": [
    "### Reportar resultados para 5, 10 y 20 variables"
   ]
  },
  {
   "cell_type": "markdown",
   "id": "finite-window",
   "metadata": {},
   "source": [
    "Primero para 5 variables y 200 ejecuciones con: mu = 100, 500 generaciones, alpha = 0.2 y epsilon = 0.005"
   ]
  },
  {
   "cell_type": "code",
   "execution_count": 28,
   "id": "bizarre-michigan",
   "metadata": {},
   "outputs": [
    {
     "name": "stdout",
     "output_type": "stream",
     "text": [
      "*************************************** Mejor Solución ***************************************\n",
      "Xs = [-0.0004264127154008789, 7.934136018297299e-05, 0.00022985196998591634, 0.00044495752571934236, -0.0006481202840276234]\n",
      "Sigmas = [0.005, 0.005, 0.005, 0.005, 0.0056135841093209946]\n",
      "f(x) = 0.0016671018659661918\n",
      "\n",
      "\n",
      "*************************************** Peor Solución ***************************************\n",
      "Xs = [-3.950253574110077, -5.978580103343751, 1.0041343461516834, -6.936038825150418, -4.954966728888865]\n",
      "Sigmas = [0.005, 0.22940202883673277, 0.3723953683112738, 0.005, 0.18343952320548304]\n",
      "f(x) = 12.737583456622763\n",
      "\n",
      "\n",
      "******************************************* Mediana *******************************************\n",
      "Xs = [-0.0022355513104083727, 0.0011415430464496177, 0.0015310090273575883, 0.0007423277611596588, 0.0012729127479682596]\n",
      "Sigmas = [0.005, 0.005, 0.005, 0.005, 0.005]\n",
      "f(x) = 0.005998373895199638\n",
      "\n",
      "\n",
      "Promedio:\t 0.3213612849784269\n",
      "Stadard Dev:\t 1.6705049725513619\n"
     ]
    }
   ],
   "source": [
    "m = 200\n",
    "sols = []\n",
    "for i in range(m):\n",
    "    solucion = evolucion(5,100,500,0.2,0.005)\n",
    "    sols.append(solucion)\n",
    "\n",
    "print('*************************************** Mejor Solución ***************************************')\n",
    "mejor_sol = get_best_solution(sols)\n",
    "print(f'Xs = {mejor_sol[0]}')\n",
    "print(f'Sigmas = {mejor_sol[1]}')\n",
    "print(f'f(x) = {-mejor_sol[2]}')\n",
    "print('\\n')\n",
    "\n",
    "print('*************************************** Peor Solución ***************************************')\n",
    "peor_sol = get_worst_solution(sols)\n",
    "print(f'Xs = {peor_sol[0]}')\n",
    "print(f'Sigmas = {peor_sol[1]}')\n",
    "print(f'f(x) = {-peor_sol[2]}')\n",
    "print('\\n')\n",
    "\n",
    "print('******************************************* Mediana *******************************************')\n",
    "med_sol = get_median(sols)\n",
    "print(f'Xs = {med_sol[0]}')\n",
    "print(f'Sigmas = {med_sol[1]}')\n",
    "print(f'f(x) = {-med_sol[2]}')\n",
    "print('\\n')\n",
    "\n",
    "print('Promedio:\\t',get_mean_cost(sols))\n",
    "print('Stadard Dev:\\t',get_sd_cost(sols))"
   ]
  },
  {
   "cell_type": "markdown",
   "id": "marked-county",
   "metadata": {},
   "source": [
    "Ahora para 10 variables y 200 ejecuciones con: mu = 100, 500 generaciones, alpha = 0.2 y epsilon = 0.005"
   ]
  },
  {
   "cell_type": "code",
   "execution_count": 29,
   "id": "realistic-monday",
   "metadata": {},
   "outputs": [
    {
     "name": "stdout",
     "output_type": "stream",
     "text": [
      "*************************************** Mejor Solución ***************************************\n",
      "Xs = [-0.011041913023473713, 0.002126623690886195, 0.0026082584753518833, -0.013130161262573298, -0.017866634903470843, -0.011824772899578527, 0.03594501667291706, 0.0024443652897363647, -0.0075033329834319085, 0.006851644355829427]\n",
      "Sigmas = [0.005, 0.0942606652108702, 0.005, 0.12533660798420518, 0.005, 0.005, 0.005, 0.005, 0.005, 0.009740813430526421]\n",
      "f(x) = 0.07034690355359574\n",
      "\n",
      "\n",
      "*************************************** Peor Solución ***************************************\n",
      "Xs = [1.002346784874123, -10.002863295476965, 2.9844702898195217, 16.998753680725176, -19.994057826809534, 9.01328499730173, 5.0178728625848645, 26.0203638175763, 6.003045735911485, 4.009626392965903]\n",
      "Sigmas = [0.005, 0.005, 0.005, 0.024342652455460148, 0.005, 0.005, 0.005, 0.005, 0.04242440387886649, 0.0229635113388476]\n",
      "f(x) = 18.45590085118775\n",
      "\n",
      "\n",
      "******************************************* Mediana *******************************************\n",
      "Xs = [16.975849426379053, 6.980650527825923, 11.036143788362757, -1.0231126331810307, -5.974751634105997, -11.990755582376847, -7.022566407624884, -7.9965622499506175, -4.974116150846733, -6.01166901492853]\n",
      "Sigmas = [0.005, 0.005, 0.005, 0.0910333703460242, 0.08005867273872425, 0.06230431439255221, 0.19145703877212988, 0.005, 0.005, 0.005]\n",
      "f(x) = 16.73219832334425\n",
      "\n",
      "\n",
      "Promedio:\t 16.085216561975457\n",
      "Stadard Dev:\t 2.6389956692826413\n"
     ]
    }
   ],
   "source": [
    "m = 200\n",
    "sols = []\n",
    "for i in range(m):\n",
    "    solucion = evolucion(10,100,500,0.2,0.005)\n",
    "    sols.append(solucion)\n",
    "\n",
    "print('*************************************** Mejor Solución ***************************************')\n",
    "mejor_sol = get_best_solution(sols)\n",
    "print(f'Xs = {mejor_sol[0]}')\n",
    "print(f'Sigmas = {mejor_sol[1]}')\n",
    "print(f'f(x) = {-mejor_sol[2]}')\n",
    "print('\\n')\n",
    "\n",
    "print('*************************************** Peor Solución ***************************************')\n",
    "peor_sol = get_worst_solution(sols)\n",
    "print(f'Xs = {peor_sol[0]}')\n",
    "print(f'Sigmas = {peor_sol[1]}')\n",
    "print(f'f(x) = {-peor_sol[2]}')\n",
    "print('\\n')\n",
    "\n",
    "print('******************************************* Mediana *******************************************')\n",
    "med_sol = get_median(sols)\n",
    "print(f'Xs = {med_sol[0]}')\n",
    "print(f'Sigmas = {med_sol[1]}')\n",
    "print(f'f(x) = {-med_sol[2]}')\n",
    "print('\\n')\n",
    "\n",
    "print('Promedio:\\t',get_mean_cost(sols))\n",
    "print('Stadard Dev:\\t',get_sd_cost(sols))"
   ]
  },
  {
   "cell_type": "markdown",
   "id": "blond-competition",
   "metadata": {},
   "source": [
    "Ahora para 20 variables y 150 ejecuciones con: mu = 100, 500 generaciones, alpha = 0.2 y epsilon = 0.005"
   ]
  },
  {
   "cell_type": "code",
   "execution_count": 31,
   "id": "close-bhutan",
   "metadata": {},
   "outputs": [
    {
     "name": "stdout",
     "output_type": "stream",
     "text": [
      "*************************************** Mejor Solución ***************************************\n",
      "Xs = [-2.0174424968609657, 0.011191668212970188, 6.965117817867044, 0.9780887963682791, 16.021539381856314, -14.998909340007213, -5.975650052962269, 12.944131640757922, -10.927060457558696, -0.9136772203992282, 15.95172761037061, -11.99887959419019, 6.0168367926999355, -10.993344473329765, 3.025672157248305, 20.00808015986183, -7.033795375178076, 7.977770895051629, 2.879381055552799, 7.017830428902072]\n",
      "Sigmas = [0.005, 0.07206731370955509, 0.16265612558406162, 0.005, 0.04490563412350569, 0.005, 0.005, 0.005, 0.005, 0.005, 0.005, 0.005, 0.18040022782257809, 0.005, 0.005, 0.005, 0.005, 0.006185173199598133, 0.11471462830435662, 0.005]\n",
      "f(x) = 17.38549730142167\n",
      "\n",
      "\n",
      "*************************************** Peor Solución ***************************************\n",
      "Xs = [0.9940961393570537, 24.052711314283467, 14.987163162456996, -25.062115640045352, 13.016904132671806, -0.020772330640955697, 8.96817629266771, 26.040387069937516, -4.994475596951579, -21.004016731639233, -3.945054109354648, 9.93243868954929, 12.062597091375642, -2.01359367527892, 25.964466922918145, -0.9832772267858857, 16.019836216287448, -2.0181354499281507, 9.08204016834439, 14.994046995320552]\n",
      "Sigmas = [0.2137109507407373, 0.005, 0.06688756245861331, 0.005, 0.005, 0.16121190391541942, 0.005, 0.005, 0.10645119128797281, 0.005, 0.005, 0.005, 0.005, 0.005, 0.13219853387574235, 0.005, 0.005, 0.005, 0.005, 0.096015746397486]\n",
      "f(x) = 19.02758389513778\n",
      "\n",
      "\n",
      "******************************************* Mediana *******************************************\n",
      "Xs = [3.935123132135445, 5.983974217491837, 19.01877923301737, -18.059674210843358, -12.008285031501638, 7.954561455072767, 13.986599113182772, 6.964282481312975, 3.0495290775368615, -1.9179849583987236, -2.983557656019602, 16.982496948807718, 2.968951681308623, 16.01209460409291, -25.985984306681704, -14.027431603166095, 16.135678663502716, 6.019396904432089, 7.030755357352571, 10.972164875915649]\n",
      "Sigmas = [0.005, 0.005, 0.30596010796185946, 0.005, 0.022670061163334483, 0.044389741978491846, 0.005, 0.005, 0.005, 0.1274698593552832, 0.005, 0.005, 0.12137430178553583, 0.005, 0.005, 0.005, 0.005, 0.18784199079378638, 0.005, 0.005]\n",
      "f(x) = 18.457592233556188\n",
      "\n",
      "\n",
      "Promedio:\t 18.406200787445115\n",
      "Stadard Dev:\t 0.31852100527373167\n"
     ]
    }
   ],
   "source": [
    "m = 150\n",
    "sols = []\n",
    "for i in range(m):\n",
    "    solucion = evolucion(20,100,500,0.2,0.005)\n",
    "    sols.append(solucion)\n",
    "\n",
    "print('*************************************** Mejor Solución ***************************************')\n",
    "mejor_sol = get_best_solution(sols)\n",
    "print(f'Xs = {mejor_sol[0]}')\n",
    "print(f'Sigmas = {mejor_sol[1]}')\n",
    "print(f'f(x) = {-mejor_sol[2]}')\n",
    "print('\\n')\n",
    "\n",
    "print('*************************************** Peor Solución ***************************************')\n",
    "peor_sol = get_worst_solution(sols)\n",
    "print(f'Xs = {peor_sol[0]}')\n",
    "print(f'Sigmas = {peor_sol[1]}')\n",
    "print(f'f(x) = {-peor_sol[2]}')\n",
    "print('\\n')\n",
    "\n",
    "print('******************************************* Mediana *******************************************')\n",
    "med_sol = get_median(sols)\n",
    "print(f'Xs = {med_sol[0]}')\n",
    "print(f'Sigmas = {med_sol[1]}')\n",
    "print(f'f(x) = {-med_sol[2]}')\n",
    "print('\\n')\n",
    "\n",
    "print('Promedio:\\t',get_mean_cost(sols))\n",
    "print('Stadard Dev:\\t',get_sd_cost(sols))"
   ]
  }
 ],
 "metadata": {
  "kernelspec": {
   "display_name": "Python 3",
   "language": "python",
   "name": "python3"
  },
  "language_info": {
   "codemirror_mode": {
    "name": "ipython",
    "version": 3
   },
   "file_extension": ".py",
   "mimetype": "text/x-python",
   "name": "python",
   "nbconvert_exporter": "python",
   "pygments_lexer": "ipython3",
   "version": "3.8.5"
  }
 },
 "nbformat": 4,
 "nbformat_minor": 5
}
